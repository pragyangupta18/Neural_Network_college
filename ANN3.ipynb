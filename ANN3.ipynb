{
  "nbformat": 4,
  "nbformat_minor": 0,
  "metadata": {
    "colab": {
      "provenance": []
    },
    "kernelspec": {
      "name": "python3",
      "display_name": "Python 3"
    },
    "language_info": {
      "name": "python"
    }
  },
  "cells": [
    {
      "cell_type": "markdown",
      "source": [
        "# Perceptron Neural Network to recognise even and odd numbers. Given numbers are in ASCII form 0 to 9"
      ],
      "metadata": {
        "id": "JVxPBxQmNIDH"
      }
    },
    {
      "cell_type": "code",
      "execution_count": 19,
      "metadata": {
        "colab": {
          "base_uri": "https://localhost:8080/"
        },
        "id": "Q1PdmmN-I25m",
        "outputId": "3b9c1adb-0e4d-4bd5-dcbf-b63fee612c15"
      },
      "outputs": [
        {
          "output_type": "stream",
          "name": "stdout",
          "text": [
            "[0 0 0 0 0 0 1 0 0 0] is even\n",
            "[0 0 0 0 0 0 0 1 0 0] is even\n",
            "[0 0 0 0 0 0 0 0 1 0] is even\n",
            "[0 0 0 0 0 0 0 0 0 1] is odd\n",
            "[0 0 0 0 0 0 1 0 1 0] is even\n",
            "[0 0 0 0 0 0 1 1 0 0] is even\n",
            "[0 0 0 0 0 0 0 0 1 1] is odd\n",
            "[0 0 0 0 0 0 1 0 0 1] is odd\n",
            "[0 0 0 0 0 0 1 0 1 1] is odd\n",
            "[0 0 0 0 0 0 0 1 1 1] is odd\n"
          ]
        }
      ],
      "source": [
        "import numpy as np\n",
        "\n",
        "class Perceptron:\n",
        "    def __init__(self, input_size, lr=0.1):\n",
        "        self.W = np.zeros(input_size + 1)\n",
        "        self.lr = lr\n",
        "\n",
        "    def activation_fn(self, x):\n",
        "        return 1 if x >= 0 else 0\n",
        "\n",
        "    def predict(self, x):\n",
        "        x = np.insert(x, 0, 1)\n",
        "        z = self.W.T.dot(x)\n",
        "        a = self.activation_fn(z)\n",
        "        return a\n",
        "\n",
        "    def train(self, X, Y, epochs):\n",
        "      for i in range (epochs) :\n",
        "        for i in range (Y. shape [0]) :\n",
        "          x = X[i]\n",
        "          y = self.predict(x)\n",
        "          e = Y[i] - y\n",
        "          self.W = self.W + self.lr * e * np.insert(x, 0, 1)\n",
        "# Input data\n",
        "X = np.array([\n",
        "    [0, 0, 0, 0, 0, 0, 1, 0, 0, 0],\n",
        "    [0, 0, 0, 0, 0, 0, 0, 1, 0, 0],\n",
        "    [0, 0, 0, 0, 0, 0, 0, 0, 1, 0],\n",
        "    [0, 0, 0, 0, 0, 0, 0, 0, 0, 1],\n",
        "    [0, 0, 0, 0, 0, 0, 1, 0, 1, 0],\n",
        "    [0, 0, 0, 0, 0, 0, 1, 1, 0, 0],\n",
        "    [0, 0, 0, 0, 0, 0, 0, 0, 1, 1],\n",
        "    [0, 0, 0, 0, 0, 0, 1, 0, 0, 1],\n",
        "    [0, 0, 0, 0, 0, 0, 1, 0, 1, 1],\n",
        "    [0, 0, 0, 0, 0, 0, 0, 1, 1, 1],\n",
        "])\n",
        "\n",
        "# Output labels\n",
        "Y = np.array([0, 0, 0, 1, 0, 0, 1, 1, 1, 1])\n",
        "\n",
        "# Create and train perceptron\n",
        "perceptron = Perceptron(input_size=10)\n",
        "perceptron.train(X, Y, epochs=100)\n",
        "\n",
        "# Test the perceptron on some input data\n",
        "test_X = np.array([\n",
        "    [0, 0, 0, 0, 0, 0, 1, 0, 0, 0],  # 0\n",
        "    [0, 0, 0, 0, 0, 0, 0, 1, 0, 0],  # 1\n",
        "    [0, 0, 0, 0, 0, 0, 0, 0, 1, 0],  # 2\n",
        "    [0, 0, 0, 0, 0, 0, 0, 0, 0, 1],  # 3\n",
        "    [0, 0, 0, 0, 0, 0, 1, 0, 1, 0],  # 4\n",
        "    [0, 0, 0, 0, 0, 0, 1, 1, 0, 0],  # 5\n",
        "    [0, 0, 0, 0, 0, 0, 0, 0, 1, 1],  # 6\n",
        "    [0, 0, 0, 0, 0, 0, 1, 0, 0, 1],  # 7\n",
        "    [0, 0, 0, 0, 0, 0, 1, 0, 1, 1],  # 8\n",
        "    [0, 0, 0, 0, 0, 0, 0, 1, 1, 1],  # 9\n",
        "])\n",
        "\n",
        "for i in range(test_X.shape[0]):\n",
        "    x = test_X[i]\n",
        "    y = perceptron.predict(x)\n",
        "    print(f'{x} is {\"even\" if y == 0 else \"odd\"}')\n"
      ]
    }
  ]
}