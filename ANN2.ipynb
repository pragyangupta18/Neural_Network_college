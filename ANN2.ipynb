{
 "cells": [
  {
   "cell_type": "code",
   "execution_count": 15,
   "id": "b768f20f",
   "metadata": {},
   "outputs": [
    {
     "name": "stdout",
     "output_type": "stream",
     "text": [
      "--------AND-NOT----------\n",
      "0 0  =  0\n",
      "0 1  =  0\n",
      "1 0  =  1\n",
      "1 1  =  0\n"
     ]
    }
   ],
   "source": [
    "import numpy as np\n",
    "\n",
    "def mcculloch_pitts_and_not(input1, input2):\n",
    "    w1 = 1\n",
    "    w2 = -1  \n",
    "    theta = 1\n",
    "    \n",
    "    y= w1 * input1 + w2 * input2\n",
    "    output = 1 if y >=theta else 0\n",
    "    print(input1,input2,\" = \",output)\n",
    "          \n",
    "print(\"--------AND-NOT----------\")      \n",
    "input1 = [0,1]\n",
    "for i in input1:\n",
    "    for j in input1:\n",
    "        mcculloch_pitts_and_not(i, j)\n",
    "\n",
    "\n",
    "\n",
    "\n"
   ]
  },
  {
   "cell_type": "code",
   "execution_count": 28,
   "id": "72fc8d10",
   "metadata": {},
   "outputs": [
    {
     "name": "stdout",
     "output_type": "stream",
     "text": [
      "0  =  1\n",
      "1  =  0\n"
     ]
    }
   ],
   "source": [
    "import numpy as np\n",
    "\n",
    "def mcculloch_pitts_not(input1):\n",
    "    w1 = -1\n",
    "    theta = 0\n",
    "    \n",
    "    y= w1 * input1 \n",
    "    output = 1 if y >=theta else 0\n",
    "    print(input1,\" = \",output)\n",
    "          \n",
    "print(\"--------NOT----------\")      \n",
    "      \n",
    "input1 = [0,1]\n",
    "for i in input1:\n",
    "    mcculloch_pitts_not(i)\n",
    "\n",
    "\n",
    "\n",
    "\n"
   ]
  },
  {
   "cell_type": "code",
   "execution_count": 29,
   "id": "149155ff",
   "metadata": {},
   "outputs": [
    {
     "name": "stdout",
     "output_type": "stream",
     "text": [
      "--------AND----------\n",
      "0 0  =  0\n",
      "0 1  =  0\n",
      "1 0  =  0\n",
      "1 1  =  1\n"
     ]
    }
   ],
   "source": [
    "import numpy as np\n",
    "\n",
    "def mcculloch_pitts_and(input1, input2):\n",
    "    w1 = 1\n",
    "    w2 = 1  \n",
    "    theta = 2\n",
    "    \n",
    "    y= w1 * input1 + w2 * input2\n",
    "    output = 1 if y >=theta else 0\n",
    "    print(input1,input2,\" = \",output)\n",
    "          \n",
    "print(\"--------AND----------\")      \n",
    "         \n",
    "input1 = [0,1]\n",
    "for i in input1:\n",
    "    for j in input1:\n",
    "        mcculloch_pitts_and(i, j)\n",
    "\n",
    "\n",
    "\n",
    "\n"
   ]
  },
  {
   "cell_type": "code",
   "execution_count": 30,
   "id": "1a25e297",
   "metadata": {},
   "outputs": [
    {
     "name": "stdout",
     "output_type": "stream",
     "text": [
      "--------OR----------\n",
      "0 0  =  0\n",
      "0 1  =  1\n",
      "1 0  =  1\n",
      "1 1  =  1\n"
     ]
    }
   ],
   "source": [
    "import numpy as np\n",
    "\n",
    "def mcculloch_pitts_and(input1, input2):\n",
    "    w1 = 1\n",
    "    w2 = 1  \n",
    "    theta = 1\n",
    "    \n",
    "    y= w1 * input1 + w2 * input2\n",
    "    output = 1 if y >=theta else 0\n",
    "    print(input1,input2,\" = \",output)\n",
    "          \n",
    "print(\"--------OR----------\")      \n",
    "         \n",
    "input1 = [0,1]\n",
    "for i in input1:\n",
    "    for j in input1:\n",
    "        mcculloch_pitts_and(i, j)\n",
    "\n",
    "\n",
    "\n",
    "\n"
   ]
  },
  {
   "cell_type": "code",
   "execution_count": null,
   "id": "debef257",
   "metadata": {},
   "outputs": [],
   "source": []
  }
 ],
 "metadata": {
  "kernelspec": {
   "display_name": "Python 3 (ipykernel)",
   "language": "python",
   "name": "python3"
  },
  "language_info": {
   "codemirror_mode": {
    "name": "ipython",
    "version": 3
   },
   "file_extension": ".py",
   "mimetype": "text/x-python",
   "name": "python",
   "nbconvert_exporter": "python",
   "pygments_lexer": "ipython3",
   "version": "3.11.4"
  }
 },
 "nbformat": 4,
 "nbformat_minor": 5
}
