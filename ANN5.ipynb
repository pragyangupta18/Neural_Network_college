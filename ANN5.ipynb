{
  "nbformat": 4,
  "nbformat_minor": 0,
  "metadata": {
    "colab": {
      "provenance": []
    },
    "kernelspec": {
      "name": "python3",
      "display_name": "Python 3"
    },
    "language_info": {
      "name": "python"
    }
  },
  "cells": [
    {
      "cell_type": "markdown",
      "source": [
        "# BAM - Bidirectional Associate Memory"
      ],
      "metadata": {
        "id": "YKRswWHOK4n4"
      }
    },
    {
      "cell_type": "code",
      "execution_count": 1,
      "metadata": {
        "id": "fKYZIyHiKEbm"
      },
      "outputs": [],
      "source": [
        "import numpy as np"
      ]
    },
    {
      "cell_type": "code",
      "source": [
        "x1 = np.array([1, 2, 1, -11])\n",
        "y1 = np.array([1, -1])\n",
        "x2 = np.array([-1, -1, 1, 11])\n",
        "y2 = np.array([-1, 1])"
      ],
      "metadata": {
        "id": "JrhXF6z3Kg-f"
      },
      "execution_count": 2,
      "outputs": []
    },
    {
      "cell_type": "code",
      "source": [
        "W = np.outer(y1, x1) + np.outer(y2, x2)"
      ],
      "metadata": {
        "id": "K80CnjmVKj2S"
      },
      "execution_count": 3,
      "outputs": []
    },
    {
      "cell_type": "code",
      "source": [
        "def bam(x):\n",
        "    y = np.dot(W, x)\n",
        "    y = np.where(y >= 0, 1, -1)\n",
        "    return y"
      ],
      "metadata": {
        "id": "6rrHkV30KmHE"
      },
      "execution_count": 4,
      "outputs": []
    },
    {
      "cell_type": "code",
      "source": [
        "x_test = np.array([11, -2, -1, -1])\n",
        "y_test = bam(x_test)"
      ],
      "metadata": {
        "id": "Q2KpoDAFKpOA"
      },
      "execution_count": 5,
      "outputs": []
    },
    {
      "cell_type": "code",
      "source": [
        "print(\"Input x:\", x_test)\n",
        "print(\"Output y:\", y_test)"
      ],
      "metadata": {
        "colab": {
          "base_uri": "https://localhost:8080/"
        },
        "id": "G0WnTfK-KqyM",
        "outputId": "a2dfdf84-42fd-4daa-c3b6-fdecaf1b14a7"
      },
      "execution_count": 6,
      "outputs": [
        {
          "output_type": "stream",
          "name": "stdout",
          "text": [
            "Input x: [11 -2 -1 -1]\n",
            "Output y: [ 1 -1]\n"
          ]
        }
      ]
    },
    {
      "cell_type": "code",
      "source": [
        "x_test = np.array([15, -2, -6, -1])\n",
        "y_test = bam(x_test)\n",
        "print(\"Input x:\", x_test)\n",
        "print(\"Output y:\", y_test)"
      ],
      "metadata": {
        "colab": {
          "base_uri": "https://localhost:8080/"
        },
        "id": "CqSBJ_6lNT1e",
        "outputId": "e8a757a2-ae0e-4dde-df97-6e97062c1551"
      },
      "execution_count": 7,
      "outputs": [
        {
          "output_type": "stream",
          "name": "stdout",
          "text": [
            "Input x: [15 -2 -6 -1]\n",
            "Output y: [ 1 -1]\n"
          ]
        }
      ]
    },
    {
      "cell_type": "code",
      "source": [
        "x_test = np.array([-15, -2, 6, -1])\n",
        "y_test = bam(x_test)\n",
        "print(\"Input x:\", x_test)\n",
        "print(\"Output y:\", y_test)"
      ],
      "metadata": {
        "colab": {
          "base_uri": "https://localhost:8080/"
        },
        "id": "9T1RvqexNZdT",
        "outputId": "b739033b-8c9c-4b0e-fed0-b90afaaea9f6"
      },
      "execution_count": 8,
      "outputs": [
        {
          "output_type": "stream",
          "name": "stdout",
          "text": [
            "Input x: [-15  -2   6  -1]\n",
            "Output y: [-1  1]\n"
          ]
        }
      ]
    }
  ]
}