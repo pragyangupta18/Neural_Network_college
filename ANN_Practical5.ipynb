{
  "nbformat": 4,
  "nbformat_minor": 0,
  "metadata": {
    "colab": {
      "provenance": []
    },
    "kernelspec": {
      "name": "python3",
      "display_name": "Python 3"
    },
    "language_info": {
      "name": "python"
    }
  },
  "cells": [
    {
      "cell_type": "markdown",
      "source": [
        "**5. Write a python Program for Bidirectional Associative Memory with two pairs of vectors.**"
      ],
      "metadata": {
        "id": "9tybQohiGzxP"
      }
    },
    {
      "cell_type": "code",
      "execution_count": null,
      "metadata": {
        "id": "hS7puIyRGsl5"
      },
      "outputs": [],
      "source": [
        "import numpy as np"
      ]
    },
    {
      "cell_type": "code",
      "source": [
        "x1 = np.array([1, 1, 1, -1])\n",
        "y1 = np.array([1, -1])\n",
        "x2 = np.array([-1, -1, 1, 1])\n",
        "y2 = np.array([-1, 1])"
      ],
      "metadata": {
        "id": "ToGNMSoQPubY"
      },
      "execution_count": null,
      "outputs": []
    },
    {
      "cell_type": "code",
      "source": [
        "W = np.outer(y1, x1) + np.outer(y2, x2)"
      ],
      "metadata": {
        "id": "vB2q_WqdPwyG"
      },
      "execution_count": null,
      "outputs": []
    },
    {
      "cell_type": "code",
      "source": [
        "def bam_forward(x):\n",
        "    y = np.dot(W, x)\n",
        "    y = np.where(y >= 0, 1, -1)\n",
        "    return y"
      ],
      "metadata": {
        "id": "nSnWU2C9Pyfn"
      },
      "execution_count": null,
      "outputs": []
    },
    {
      "cell_type": "code",
      "source": [
        "def bam_backward(y):\n",
        "    x_reconstructed = np.dot(W.T, y)\n",
        "    x_reconstructed = np.where(x_reconstructed >= 0, 1, -1)\n",
        "    return x_reconstructed"
      ],
      "metadata": {
        "id": "y5ZVODCYSC-q"
      },
      "execution_count": null,
      "outputs": []
    },
    {
      "cell_type": "code",
      "source": [
        "x_test = np.array([1, 1, 1, -1])\n",
        "y_test = bam_forward(x_test)\n",
        "x_reconstructed = bam_backward(y_test)"
      ],
      "metadata": {
        "id": "Hd38doSKP2KX"
      },
      "execution_count": null,
      "outputs": []
    },
    {
      "cell_type": "code",
      "source": [
        "print(\"Input x: \", x_test)\n",
        "print(\"Output y: \", y_test)\n",
        "print(\"Reconstructed input x: \", x_reconstructed)\n"
      ],
      "metadata": {
        "colab": {
          "base_uri": "https://localhost:8080/"
        },
        "id": "cJq3F09XUDNC",
        "outputId": "17de4fdf-518e-4edd-d2dc-56e7a43d3e64"
      },
      "execution_count": null,
      "outputs": [
        {
          "output_type": "stream",
          "name": "stdout",
          "text": [
            "Input x:  [ 1  1  1 -1]\n",
            "Output y:  [ 1 -1]\n",
            "Reconstructed input x:  [ 1  1  1 -1]\n"
          ]
        }
      ]
    }
  ]
}